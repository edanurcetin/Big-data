{
  "nbformat": 4,
  "nbformat_minor": 0,
  "metadata": {
    "colab": {
      "provenance": [],
      "authorship_tag": "ABX9TyPNDWfq8Uy4dPw7Jx2mUDLF",
      "include_colab_link": true
    },
    "kernelspec": {
      "name": "python3",
      "display_name": "Python 3"
    },
    "language_info": {
      "name": "python"
    },
    "widgets": {
      "application/vnd.jupyter.widget-state+json": {
        "c2fb43dd48034f6f9ec2a08ca9de828d": {
          "model_module": "@jupyter-widgets/controls",
          "model_name": "TextModel",
          "model_module_version": "1.5.0",
          "state": {
            "_dom_classes": [],
            "_model_module": "@jupyter-widgets/controls",
            "_model_module_version": "1.5.0",
            "_model_name": "TextModel",
            "_view_count": null,
            "_view_module": "@jupyter-widgets/controls",
            "_view_module_version": "1.5.0",
            "_view_name": "TextView",
            "continuous_update": true,
            "description": "Web Adresi:",
            "description_tooltip": null,
            "disabled": false,
            "layout": "IPY_MODEL_176c2a6f7ef84fc9a5db44a47d8e27d0",
            "placeholder": "​",
            "style": "IPY_MODEL_1a0fd9efdfda4c12b0f87a9ee6d8a489",
            "value": "https://www.izdiham.com/"
          }
        },
        "176c2a6f7ef84fc9a5db44a47d8e27d0": {
          "model_module": "@jupyter-widgets/base",
          "model_name": "LayoutModel",
          "model_module_version": "1.2.0",
          "state": {
            "_model_module": "@jupyter-widgets/base",
            "_model_module_version": "1.2.0",
            "_model_name": "LayoutModel",
            "_view_count": null,
            "_view_module": "@jupyter-widgets/base",
            "_view_module_version": "1.2.0",
            "_view_name": "LayoutView",
            "align_content": null,
            "align_items": null,
            "align_self": null,
            "border": null,
            "bottom": null,
            "display": null,
            "flex": null,
            "flex_flow": null,
            "grid_area": null,
            "grid_auto_columns": null,
            "grid_auto_flow": null,
            "grid_auto_rows": null,
            "grid_column": null,
            "grid_gap": null,
            "grid_row": null,
            "grid_template_areas": null,
            "grid_template_columns": null,
            "grid_template_rows": null,
            "height": null,
            "justify_content": null,
            "justify_items": null,
            "left": null,
            "margin": null,
            "max_height": null,
            "max_width": null,
            "min_height": null,
            "min_width": null,
            "object_fit": null,
            "object_position": null,
            "order": null,
            "overflow": null,
            "overflow_x": null,
            "overflow_y": null,
            "padding": null,
            "right": null,
            "top": null,
            "visibility": null,
            "width": null
          }
        },
        "1a0fd9efdfda4c12b0f87a9ee6d8a489": {
          "model_module": "@jupyter-widgets/controls",
          "model_name": "DescriptionStyleModel",
          "model_module_version": "1.5.0",
          "state": {
            "_model_module": "@jupyter-widgets/controls",
            "_model_module_version": "1.5.0",
            "_model_name": "DescriptionStyleModel",
            "_view_count": null,
            "_view_module": "@jupyter-widgets/base",
            "_view_module_version": "1.2.0",
            "_view_name": "StyleView",
            "description_width": ""
          }
        },
        "5a6f86955c6747639eb14147508b1db5": {
          "model_module": "@jupyter-widgets/controls",
          "model_name": "IntSliderModel",
          "model_module_version": "1.5.0",
          "state": {
            "_dom_classes": [],
            "_model_module": "@jupyter-widgets/controls",
            "_model_module_version": "1.5.0",
            "_model_name": "IntSliderModel",
            "_view_count": null,
            "_view_module": "@jupyter-widgets/controls",
            "_view_module_version": "1.5.0",
            "_view_name": "IntSliderView",
            "continuous_update": true,
            "description": "Seviye:",
            "description_tooltip": null,
            "disabled": false,
            "layout": "IPY_MODEL_07c7259020124a6c9782ca8b0e781c28",
            "max": 10,
            "min": 1,
            "orientation": "horizontal",
            "readout": true,
            "readout_format": "d",
            "step": 1,
            "style": "IPY_MODEL_ac6c67cdd9c04dc5b2b9bfcc2c0213b3",
            "value": 3
          }
        },
        "07c7259020124a6c9782ca8b0e781c28": {
          "model_module": "@jupyter-widgets/base",
          "model_name": "LayoutModel",
          "model_module_version": "1.2.0",
          "state": {
            "_model_module": "@jupyter-widgets/base",
            "_model_module_version": "1.2.0",
            "_model_name": "LayoutModel",
            "_view_count": null,
            "_view_module": "@jupyter-widgets/base",
            "_view_module_version": "1.2.0",
            "_view_name": "LayoutView",
            "align_content": null,
            "align_items": null,
            "align_self": null,
            "border": null,
            "bottom": null,
            "display": null,
            "flex": null,
            "flex_flow": null,
            "grid_area": null,
            "grid_auto_columns": null,
            "grid_auto_flow": null,
            "grid_auto_rows": null,
            "grid_column": null,
            "grid_gap": null,
            "grid_row": null,
            "grid_template_areas": null,
            "grid_template_columns": null,
            "grid_template_rows": null,
            "height": null,
            "justify_content": null,
            "justify_items": null,
            "left": null,
            "margin": null,
            "max_height": null,
            "max_width": null,
            "min_height": null,
            "min_width": null,
            "object_fit": null,
            "object_position": null,
            "order": null,
            "overflow": null,
            "overflow_x": null,
            "overflow_y": null,
            "padding": null,
            "right": null,
            "top": null,
            "visibility": null,
            "width": null
          }
        },
        "ac6c67cdd9c04dc5b2b9bfcc2c0213b3": {
          "model_module": "@jupyter-widgets/controls",
          "model_name": "SliderStyleModel",
          "model_module_version": "1.5.0",
          "state": {
            "_model_module": "@jupyter-widgets/controls",
            "_model_module_version": "1.5.0",
            "_model_name": "SliderStyleModel",
            "_view_count": null,
            "_view_module": "@jupyter-widgets/base",
            "_view_module_version": "1.2.0",
            "_view_name": "StyleView",
            "description_width": "",
            "handle_color": null
          }
        },
        "cbeed5a17738404da923b80610572b68": {
          "model_module": "@jupyter-widgets/controls",
          "model_name": "ButtonModel",
          "model_module_version": "1.5.0",
          "state": {
            "_dom_classes": [],
            "_model_module": "@jupyter-widgets/controls",
            "_model_module_version": "1.5.0",
            "_model_name": "ButtonModel",
            "_view_count": null,
            "_view_module": "@jupyter-widgets/controls",
            "_view_module_version": "1.5.0",
            "_view_name": "ButtonView",
            "button_style": "",
            "description": "Başlat",
            "disabled": false,
            "icon": "",
            "layout": "IPY_MODEL_6633a20ed0a7452da31cb09a4647dde7",
            "style": "IPY_MODEL_f0e1061faad24488ac13cc9dfc63e50d",
            "tooltip": ""
          }
        },
        "6633a20ed0a7452da31cb09a4647dde7": {
          "model_module": "@jupyter-widgets/base",
          "model_name": "LayoutModel",
          "model_module_version": "1.2.0",
          "state": {
            "_model_module": "@jupyter-widgets/base",
            "_model_module_version": "1.2.0",
            "_model_name": "LayoutModel",
            "_view_count": null,
            "_view_module": "@jupyter-widgets/base",
            "_view_module_version": "1.2.0",
            "_view_name": "LayoutView",
            "align_content": null,
            "align_items": null,
            "align_self": null,
            "border": null,
            "bottom": null,
            "display": null,
            "flex": null,
            "flex_flow": null,
            "grid_area": null,
            "grid_auto_columns": null,
            "grid_auto_flow": null,
            "grid_auto_rows": null,
            "grid_column": null,
            "grid_gap": null,
            "grid_row": null,
            "grid_template_areas": null,
            "grid_template_columns": null,
            "grid_template_rows": null,
            "height": null,
            "justify_content": null,
            "justify_items": null,
            "left": null,
            "margin": null,
            "max_height": null,
            "max_width": null,
            "min_height": null,
            "min_width": null,
            "object_fit": null,
            "object_position": null,
            "order": null,
            "overflow": null,
            "overflow_x": null,
            "overflow_y": null,
            "padding": null,
            "right": null,
            "top": null,
            "visibility": null,
            "width": null
          }
        },
        "f0e1061faad24488ac13cc9dfc63e50d": {
          "model_module": "@jupyter-widgets/controls",
          "model_name": "ButtonStyleModel",
          "model_module_version": "1.5.0",
          "state": {
            "_model_module": "@jupyter-widgets/controls",
            "_model_module_version": "1.5.0",
            "_model_name": "ButtonStyleModel",
            "_view_count": null,
            "_view_module": "@jupyter-widgets/base",
            "_view_module_version": "1.2.0",
            "_view_name": "StyleView",
            "button_color": null,
            "font_weight": ""
          }
        }
      }
    }
  },
  "cells": [
    {
      "cell_type": "markdown",
      "metadata": {
        "id": "view-in-github",
        "colab_type": "text"
      },
      "source": [
        "<a href=\"https://colab.research.google.com/github/edanurcetin/Big-data/blob/main/web_%C3%B6r%C3%BCmcek_projesi.ipynb\" target=\"_parent\"><img src=\"https://colab.research.google.com/assets/colab-badge.svg\" alt=\"Open In Colab\"/></a>"
      ]
    },
    {
      "cell_type": "code",
      "source": [
        "import ipywidgets as widgets\n",
        "import requests\n",
        "from bs4 import BeautifulSoup\n",
        "\n",
        "\n",
        "web_adresi = widgets.Text(value=\"\", description='Web Adresi:')\n",
        "display(web_adresi)\n",
        "\n",
        "seviye_sec = widgets.IntSlider(min=1, max=10, step=1, value=3, description='Seviye:')\n",
        "display(seviye_sec)\n",
        "\n",
        "gonder_dugmesi = widgets.Button(description='Başlat')\n",
        "display(gonder_dugmesi)\n",
        "\n",
        "\n",
        "def dosyaya_yaz(url, seviye, sayfa_basligi):\n",
        "    dosya = open(\"gelen_sonuclar.txt\", \"a\")\n",
        "    dosya.write(f\"Seviye: {seviye} - URL: {url} - Başlık: {sayfa_basligi}\\n\")\n",
        "    dosya.close()\n",
        "\n",
        "\n",
        "def baglantilari_bul(url, seviye):\n",
        "    if seviye == 0:\n",
        "        return\n",
        "    print(f\"Tarama yapılan URL: {url}, Seviye: {seviye}\")\n",
        "\n",
        "\n",
        "    cevap = requests.get(url)\n",
        "    analiz = BeautifulSoup(cevap.content, \"html.parser\")\n",
        "\n",
        "    sayfa_basligi = analiz.title.string\n",
        "    dosyaya_yaz(url, seviye, sayfa_basligi)\n",
        "\n",
        "    ilk_baglanti = analiz.find('a')\n",
        "    if ilk_baglanti:\n",
        "        yeni_url = ilk_baglanti.get('href')\n",
        "\n",
        "\n",
        "def butona_tiklama(b):\n",
        "    url = web_adresi.value\n",
        "\n",
        "    if not url.startswith(('http://', 'https://')):\n",
        "        print(\"Lütfen geçerli bir URL girin. Örneğin: https://www.izdiham.com/\")\n",
        "        return\n",
        "\n",
        "    seviye = seviye_sec.value\n",
        "    baglantilari_bul(url, seviye)\n",
        "    print(f\"Tüm sonuçlar 'gelen_sonuclar.txt' dosyasına yazıldı.\")\n",
        "\n",
        "gonder_dugmesi.on_click(butona_tiklama)\n"
      ],
      "metadata": {
        "colab": {
          "base_uri": "https://localhost:8080/",
          "height": 147,
          "referenced_widgets": [
            "c2fb43dd48034f6f9ec2a08ca9de828d",
            "176c2a6f7ef84fc9a5db44a47d8e27d0",
            "1a0fd9efdfda4c12b0f87a9ee6d8a489",
            "5a6f86955c6747639eb14147508b1db5",
            "07c7259020124a6c9782ca8b0e781c28",
            "ac6c67cdd9c04dc5b2b9bfcc2c0213b3",
            "cbeed5a17738404da923b80610572b68",
            "6633a20ed0a7452da31cb09a4647dde7",
            "f0e1061faad24488ac13cc9dfc63e50d"
          ]
        },
        "id": "U3h8R3sxxKUi",
        "outputId": "601afd93-26be-467f-a872-6cb605daaaa3"
      },
      "execution_count": 3,
      "outputs": [
        {
          "output_type": "display_data",
          "data": {
            "text/plain": [
              "Text(value='', description='Web Adresi:')"
            ],
            "application/vnd.jupyter.widget-view+json": {
              "version_major": 2,
              "version_minor": 0,
              "model_id": "c2fb43dd48034f6f9ec2a08ca9de828d"
            }
          },
          "metadata": {}
        },
        {
          "output_type": "display_data",
          "data": {
            "text/plain": [
              "IntSlider(value=3, description='Seviye:', max=10, min=1)"
            ],
            "application/vnd.jupyter.widget-view+json": {
              "version_major": 2,
              "version_minor": 0,
              "model_id": "5a6f86955c6747639eb14147508b1db5"
            }
          },
          "metadata": {}
        },
        {
          "output_type": "display_data",
          "data": {
            "text/plain": [
              "Button(description='Başlat', style=ButtonStyle())"
            ],
            "application/vnd.jupyter.widget-view+json": {
              "version_major": 2,
              "version_minor": 0,
              "model_id": "cbeed5a17738404da923b80610572b68"
            }
          },
          "metadata": {}
        },
        {
          "output_type": "stream",
          "name": "stdout",
          "text": [
            "Tarama yapılan URL: https://www.izdiham.com/, Seviye: 3\n",
            "Tüm sonuçlar 'gelen_sonuclar.txt' dosyasına yazıldı.\n"
          ]
        }
      ]
    }
  ]
}