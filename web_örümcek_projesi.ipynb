{
  "nbformat": 4,
  "nbformat_minor": 0,
  "metadata": {
    "colab": {
      "provenance": [],
      "authorship_tag": "ABX9TyO+OFhLJyXqVKakbtVERlnJ",
      "include_colab_link": true
    },
    "kernelspec": {
      "name": "python3",
      "display_name": "Python 3"
    },
    "language_info": {
      "name": "python"
    },
    "widgets": {
      "application/vnd.jupyter.widget-state+json": {
        "8fd310e212e843eba737fd0cb63fd879": {
          "model_module": "@jupyter-widgets/controls",
          "model_name": "TextModel",
          "model_module_version": "1.5.0",
          "state": {
            "_dom_classes": [],
            "_model_module": "@jupyter-widgets/controls",
            "_model_module_version": "1.5.0",
            "_model_name": "TextModel",
            "_view_count": null,
            "_view_module": "@jupyter-widgets/controls",
            "_view_module_version": "1.5.0",
            "_view_name": "TextView",
            "continuous_update": true,
            "description": "Web Adresi:",
            "description_tooltip": null,
            "disabled": false,
            "layout": "IPY_MODEL_2703713c62144ea9a28bb08999a3c617",
            "placeholder": "​",
            "style": "IPY_MODEL_a030ac87fbb24ed3bc14b0c32c848b0c",
            "value": "https://www.izdiham.com/"
          }
        },
        "2703713c62144ea9a28bb08999a3c617": {
          "model_module": "@jupyter-widgets/base",
          "model_name": "LayoutModel",
          "model_module_version": "1.2.0",
          "state": {
            "_model_module": "@jupyter-widgets/base",
            "_model_module_version": "1.2.0",
            "_model_name": "LayoutModel",
            "_view_count": null,
            "_view_module": "@jupyter-widgets/base",
            "_view_module_version": "1.2.0",
            "_view_name": "LayoutView",
            "align_content": null,
            "align_items": null,
            "align_self": null,
            "border": null,
            "bottom": null,
            "display": null,
            "flex": null,
            "flex_flow": null,
            "grid_area": null,
            "grid_auto_columns": null,
            "grid_auto_flow": null,
            "grid_auto_rows": null,
            "grid_column": null,
            "grid_gap": null,
            "grid_row": null,
            "grid_template_areas": null,
            "grid_template_columns": null,
            "grid_template_rows": null,
            "height": null,
            "justify_content": null,
            "justify_items": null,
            "left": null,
            "margin": null,
            "max_height": null,
            "max_width": null,
            "min_height": null,
            "min_width": null,
            "object_fit": null,
            "object_position": null,
            "order": null,
            "overflow": null,
            "overflow_x": null,
            "overflow_y": null,
            "padding": null,
            "right": null,
            "top": null,
            "visibility": null,
            "width": null
          }
        },
        "a030ac87fbb24ed3bc14b0c32c848b0c": {
          "model_module": "@jupyter-widgets/controls",
          "model_name": "DescriptionStyleModel",
          "model_module_version": "1.5.0",
          "state": {
            "_model_module": "@jupyter-widgets/controls",
            "_model_module_version": "1.5.0",
            "_model_name": "DescriptionStyleModel",
            "_view_count": null,
            "_view_module": "@jupyter-widgets/base",
            "_view_module_version": "1.2.0",
            "_view_name": "StyleView",
            "description_width": ""
          }
        },
        "a6884ce2e47447d7bb0c9fd6909656d1": {
          "model_module": "@jupyter-widgets/controls",
          "model_name": "IntSliderModel",
          "model_module_version": "1.5.0",
          "state": {
            "_dom_classes": [],
            "_model_module": "@jupyter-widgets/controls",
            "_model_module_version": "1.5.0",
            "_model_name": "IntSliderModel",
            "_view_count": null,
            "_view_module": "@jupyter-widgets/controls",
            "_view_module_version": "1.5.0",
            "_view_name": "IntSliderView",
            "continuous_update": true,
            "description": "Seviye:",
            "description_tooltip": null,
            "disabled": false,
            "layout": "IPY_MODEL_90c75430944a48b6b5aa977bf88b0103",
            "max": 10,
            "min": 1,
            "orientation": "horizontal",
            "readout": true,
            "readout_format": "d",
            "step": 1,
            "style": "IPY_MODEL_97c93d313e734c19b8dea71c85c48dca",
            "value": 3
          }
        },
        "90c75430944a48b6b5aa977bf88b0103": {
          "model_module": "@jupyter-widgets/base",
          "model_name": "LayoutModel",
          "model_module_version": "1.2.0",
          "state": {
            "_model_module": "@jupyter-widgets/base",
            "_model_module_version": "1.2.0",
            "_model_name": "LayoutModel",
            "_view_count": null,
            "_view_module": "@jupyter-widgets/base",
            "_view_module_version": "1.2.0",
            "_view_name": "LayoutView",
            "align_content": null,
            "align_items": null,
            "align_self": null,
            "border": null,
            "bottom": null,
            "display": null,
            "flex": null,
            "flex_flow": null,
            "grid_area": null,
            "grid_auto_columns": null,
            "grid_auto_flow": null,
            "grid_auto_rows": null,
            "grid_column": null,
            "grid_gap": null,
            "grid_row": null,
            "grid_template_areas": null,
            "grid_template_columns": null,
            "grid_template_rows": null,
            "height": null,
            "justify_content": null,
            "justify_items": null,
            "left": null,
            "margin": null,
            "max_height": null,
            "max_width": null,
            "min_height": null,
            "min_width": null,
            "object_fit": null,
            "object_position": null,
            "order": null,
            "overflow": null,
            "overflow_x": null,
            "overflow_y": null,
            "padding": null,
            "right": null,
            "top": null,
            "visibility": null,
            "width": null
          }
        },
        "97c93d313e734c19b8dea71c85c48dca": {
          "model_module": "@jupyter-widgets/controls",
          "model_name": "SliderStyleModel",
          "model_module_version": "1.5.0",
          "state": {
            "_model_module": "@jupyter-widgets/controls",
            "_model_module_version": "1.5.0",
            "_model_name": "SliderStyleModel",
            "_view_count": null,
            "_view_module": "@jupyter-widgets/base",
            "_view_module_version": "1.2.0",
            "_view_name": "StyleView",
            "description_width": "",
            "handle_color": null
          }
        },
        "d7ffafb823e54714a9db7dbab35b6dc9": {
          "model_module": "@jupyter-widgets/controls",
          "model_name": "ButtonModel",
          "model_module_version": "1.5.0",
          "state": {
            "_dom_classes": [],
            "_model_module": "@jupyter-widgets/controls",
            "_model_module_version": "1.5.0",
            "_model_name": "ButtonModel",
            "_view_count": null,
            "_view_module": "@jupyter-widgets/controls",
            "_view_module_version": "1.5.0",
            "_view_name": "ButtonView",
            "button_style": "",
            "description": "Başlat",
            "disabled": false,
            "icon": "",
            "layout": "IPY_MODEL_82d2dd7561fc4908b053838d3c17de64",
            "style": "IPY_MODEL_90fac1861f7b4d7d9b9349b1dce7e885",
            "tooltip": ""
          }
        },
        "82d2dd7561fc4908b053838d3c17de64": {
          "model_module": "@jupyter-widgets/base",
          "model_name": "LayoutModel",
          "model_module_version": "1.2.0",
          "state": {
            "_model_module": "@jupyter-widgets/base",
            "_model_module_version": "1.2.0",
            "_model_name": "LayoutModel",
            "_view_count": null,
            "_view_module": "@jupyter-widgets/base",
            "_view_module_version": "1.2.0",
            "_view_name": "LayoutView",
            "align_content": null,
            "align_items": null,
            "align_self": null,
            "border": null,
            "bottom": null,
            "display": null,
            "flex": null,
            "flex_flow": null,
            "grid_area": null,
            "grid_auto_columns": null,
            "grid_auto_flow": null,
            "grid_auto_rows": null,
            "grid_column": null,
            "grid_gap": null,
            "grid_row": null,
            "grid_template_areas": null,
            "grid_template_columns": null,
            "grid_template_rows": null,
            "height": null,
            "justify_content": null,
            "justify_items": null,
            "left": null,
            "margin": null,
            "max_height": null,
            "max_width": null,
            "min_height": null,
            "min_width": null,
            "object_fit": null,
            "object_position": null,
            "order": null,
            "overflow": null,
            "overflow_x": null,
            "overflow_y": null,
            "padding": null,
            "right": null,
            "top": null,
            "visibility": null,
            "width": null
          }
        },
        "90fac1861f7b4d7d9b9349b1dce7e885": {
          "model_module": "@jupyter-widgets/controls",
          "model_name": "ButtonStyleModel",
          "model_module_version": "1.5.0",
          "state": {
            "_model_module": "@jupyter-widgets/controls",
            "_model_module_version": "1.5.0",
            "_model_name": "ButtonStyleModel",
            "_view_count": null,
            "_view_module": "@jupyter-widgets/base",
            "_view_module_version": "1.2.0",
            "_view_name": "StyleView",
            "button_color": null,
            "font_weight": ""
          }
        }
      }
    }
  },
  "cells": [
    {
      "cell_type": "markdown",
      "metadata": {
        "id": "view-in-github",
        "colab_type": "text"
      },
      "source": [
        "<a href=\"https://colab.research.google.com/github/edanurcetin/Big-data/blob/main/web_%C3%B6r%C3%BCmcek_projesi.ipynb\" target=\"_parent\"><img src=\"https://colab.research.google.com/assets/colab-badge.svg\" alt=\"Open In Colab\"/></a>"
      ]
    },
    {
      "cell_type": "code",
      "source": [
        "import ipywidgets as widgets\n",
        "import requests\n",
        "from bs4 import BeautifulSoup\n",
        "\n",
        "\n",
        "web_adresi = widgets.Text(value=\"\", description='Web Adresi:')\n",
        "display(web_adresi)\n",
        "\n",
        "seviye_sec = widgets.IntSlider(min=1, max=10, step=1, value=3, description='Seviye:')\n",
        "display(seviye_sec)\n",
        "\n",
        "gonder_dugmesi = widgets.Button(description='Başlat')\n",
        "display(gonder_dugmesi)\n",
        "\n",
        "\n",
        "def dosyaya_yaz(url, seviye, sayfa_basligi):\n",
        "    dosya = open(\"tarama_sonuclari.txt\", \"a\")\n",
        "    dosya.write(f\"Seviye: {seviye} - URL: {url} - Başlık: {sayfa_basligi}\\n\")\n",
        "    dosya.close()\n",
        "\n",
        "# Bağlantıları bul ve işle\n",
        "def baglantilari_bul(url, seviye):\n",
        "    if seviye == 0:\n",
        "        return\n",
        "    print(f\"Tarama yapılan URL: {url}, Seviye: {seviye}\")\n",
        "\n",
        "    # Web sayfasını çek\n",
        "    cevap = requests.get(url)\n",
        "    analiz = BeautifulSoup(cevap.content, \"html.parser\")\n",
        "\n",
        "    sayfa_basligi = analiz.title.string\n",
        "    dosyaya_yaz(url, seviye, sayfa_basligi)\n",
        "\n",
        "    ilk_baglanti = analiz.find('a')\n",
        "    if ilk_baglanti:\n",
        "        yeni_url = ilk_baglanti.get('href')\n",
        "\n",
        "# Buton tıklama işlemi\n",
        "def butona_tiklama(b):\n",
        "    url = web_adresi.value\n",
        "    # URL kontrolü\n",
        "    if not url.startswith(('http://', 'https://')):\n",
        "        print(\"Lütfen geçerli bir URL girin. Örneğin: https://www.izdiham.com/\")\n",
        "        return\n",
        "\n",
        "    seviye = seviye_sec.value\n",
        "    baglantilari_bul(url, seviye)\n",
        "    print(f\"Tüm sonuçlar 'tarama_sonuclari.txt' dosyasına yazıldı.\")\n",
        "\n",
        "# Butona tıklama olayını bağla\n",
        "gonder_dugmesi.on_click(butona_tiklama)\n"
      ],
      "metadata": {
        "colab": {
          "base_uri": "https://localhost:8080/",
          "height": 147,
          "referenced_widgets": [
            "8fd310e212e843eba737fd0cb63fd879",
            "2703713c62144ea9a28bb08999a3c617",
            "a030ac87fbb24ed3bc14b0c32c848b0c",
            "a6884ce2e47447d7bb0c9fd6909656d1",
            "90c75430944a48b6b5aa977bf88b0103",
            "97c93d313e734c19b8dea71c85c48dca",
            "d7ffafb823e54714a9db7dbab35b6dc9",
            "82d2dd7561fc4908b053838d3c17de64",
            "90fac1861f7b4d7d9b9349b1dce7e885"
          ]
        },
        "id": "U3h8R3sxxKUi",
        "outputId": "594123d9-9a34-48bd-aa32-99f44c939e1d"
      },
      "execution_count": null,
      "outputs": [
        {
          "output_type": "display_data",
          "data": {
            "text/plain": [
              "Text(value='', description='Web Adresi:')"
            ],
            "application/vnd.jupyter.widget-view+json": {
              "version_major": 2,
              "version_minor": 0,
              "model_id": "8fd310e212e843eba737fd0cb63fd879"
            }
          },
          "metadata": {}
        },
        {
          "output_type": "display_data",
          "data": {
            "text/plain": [
              "IntSlider(value=3, description='Seviye:', max=10, min=1)"
            ],
            "application/vnd.jupyter.widget-view+json": {
              "version_major": 2,
              "version_minor": 0,
              "model_id": "a6884ce2e47447d7bb0c9fd6909656d1"
            }
          },
          "metadata": {}
        },
        {
          "output_type": "display_data",
          "data": {
            "text/plain": [
              "Button(description='Başlat', style=ButtonStyle())"
            ],
            "application/vnd.jupyter.widget-view+json": {
              "version_major": 2,
              "version_minor": 0,
              "model_id": "d7ffafb823e54714a9db7dbab35b6dc9"
            }
          },
          "metadata": {}
        },
        {
          "output_type": "stream",
          "name": "stdout",
          "text": [
            "Tarama yapılan URL: https://www.izdiham.com/, Seviye: 3\n",
            "Tüm sonuçlar 'tarama_sonuclari.txt' dosyasına yazıldı.\n"
          ]
        }
      ]
    }
  ]
}